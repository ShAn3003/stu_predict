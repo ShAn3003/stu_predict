{
 "cells": [
  {
   "cell_type": "code",
   "execution_count": 5,
   "id": "6c1b26ee",
   "metadata": {},
   "outputs": [],
   "source": [
    "import pandas as pd"
   ]
  },
  {
   "cell_type": "code",
   "execution_count": 6,
   "id": "0d727562",
   "metadata": {
    "scrolled": true
   },
   "outputs": [
    {
     "name": "stdout",
     "output_type": "stream",
     "text": [
      "<class 'pandas.core.frame.DataFrame'>\n",
      "RangeIndex: 440 entries, 0 to 439\n",
      "Data columns (total 17 columns):\n",
      " #   Column                    Non-Null Count  Dtype \n",
      "---  ------                    --------------  ----- \n",
      " 0   gender                    440 non-null    object\n",
      " 1   NationalITy               440 non-null    object\n",
      " 2   PlaceofBirth              440 non-null    object\n",
      " 3   StageID                   440 non-null    object\n",
      " 4   GradeID                   440 non-null    object\n",
      " 5   SectionID                 440 non-null    object\n",
      " 6   Topic                     440 non-null    object\n",
      " 7   Semester                  440 non-null    object\n",
      " 8   Relation                  440 non-null    object\n",
      " 9   raisedhands               440 non-null    int64 \n",
      " 10  VisITedResources          440 non-null    int64 \n",
      " 11  AnnouncementsView         440 non-null    int64 \n",
      " 12  Discussion                440 non-null    int64 \n",
      " 13  ParentAnsweringSurvey     440 non-null    object\n",
      " 14  ParentschoolSatisfaction  440 non-null    object\n",
      " 15  StudentAbsenceDays        440 non-null    object\n",
      " 16  Class                     440 non-null    object\n",
      "dtypes: int64(4), object(13)\n",
      "memory usage: 58.6+ KB\n"
     ]
    }
   ],
   "source": [
    "df_students=pd.read_csv(\"D:/Desktop/Edu-Data（A题数据）.csv\")\n",
    "df_students.info()"
   ]
  },
  {
   "cell_type": "code",
   "execution_count": 7,
   "id": "8195307d",
   "metadata": {},
   "outputs": [
    {
     "data": {
      "text/plain": [
       "gender                      0\n",
       "NationalITy                 0\n",
       "PlaceofBirth                0\n",
       "StageID                     0\n",
       "GradeID                     0\n",
       "SectionID                   0\n",
       "Topic                       0\n",
       "Semester                    0\n",
       "Relation                    0\n",
       "raisedhands                 0\n",
       "VisITedResources            0\n",
       "AnnouncementsView           0\n",
       "Discussion                  0\n",
       "ParentAnsweringSurvey       0\n",
       "ParentschoolSatisfaction    0\n",
       "StudentAbsenceDays          0\n",
       "Class                       0\n",
       "dtype: int64"
      ]
     },
     "execution_count": 7,
     "metadata": {},
     "output_type": "execute_result"
    }
   ],
   "source": [
    "df_students.isnull().sum()"
   ]
  },
  {
   "cell_type": "code",
   "execution_count": 8,
   "id": "66f300fd",
   "metadata": {},
   "outputs": [
    {
     "data": {
      "text/html": [
       "<div>\n",
       "<style scoped>\n",
       "    .dataframe tbody tr th:only-of-type {\n",
       "        vertical-align: middle;\n",
       "    }\n",
       "\n",
       "    .dataframe tbody tr th {\n",
       "        vertical-align: top;\n",
       "    }\n",
       "\n",
       "    .dataframe thead th {\n",
       "        text-align: right;\n",
       "    }\n",
       "</style>\n",
       "<table border=\"1\" class=\"dataframe\">\n",
       "  <thead>\n",
       "    <tr style=\"text-align: right;\">\n",
       "      <th></th>\n",
       "      <th>count</th>\n",
       "      <th>unique</th>\n",
       "      <th>top</th>\n",
       "      <th>freq</th>\n",
       "      <th>mean</th>\n",
       "      <th>std</th>\n",
       "      <th>min</th>\n",
       "      <th>25%</th>\n",
       "      <th>50%</th>\n",
       "      <th>75%</th>\n",
       "      <th>max</th>\n",
       "    </tr>\n",
       "  </thead>\n",
       "  <tbody>\n",
       "    <tr>\n",
       "      <th>gender</th>\n",
       "      <td>440</td>\n",
       "      <td>2</td>\n",
       "      <td>M</td>\n",
       "      <td>285</td>\n",
       "      <td>NaN</td>\n",
       "      <td>NaN</td>\n",
       "      <td>NaN</td>\n",
       "      <td>NaN</td>\n",
       "      <td>NaN</td>\n",
       "      <td>NaN</td>\n",
       "      <td>NaN</td>\n",
       "    </tr>\n",
       "    <tr>\n",
       "      <th>NationalITy</th>\n",
       "      <td>440</td>\n",
       "      <td>14</td>\n",
       "      <td>KW</td>\n",
       "      <td>179</td>\n",
       "      <td>NaN</td>\n",
       "      <td>NaN</td>\n",
       "      <td>NaN</td>\n",
       "      <td>NaN</td>\n",
       "      <td>NaN</td>\n",
       "      <td>NaN</td>\n",
       "      <td>NaN</td>\n",
       "    </tr>\n",
       "    <tr>\n",
       "      <th>PlaceofBirth</th>\n",
       "      <td>440</td>\n",
       "      <td>14</td>\n",
       "      <td>KuwaIT</td>\n",
       "      <td>180</td>\n",
       "      <td>NaN</td>\n",
       "      <td>NaN</td>\n",
       "      <td>NaN</td>\n",
       "      <td>NaN</td>\n",
       "      <td>NaN</td>\n",
       "      <td>NaN</td>\n",
       "      <td>NaN</td>\n",
       "    </tr>\n",
       "    <tr>\n",
       "      <th>StageID</th>\n",
       "      <td>440</td>\n",
       "      <td>3</td>\n",
       "      <td>MiddleSchool</td>\n",
       "      <td>208</td>\n",
       "      <td>NaN</td>\n",
       "      <td>NaN</td>\n",
       "      <td>NaN</td>\n",
       "      <td>NaN</td>\n",
       "      <td>NaN</td>\n",
       "      <td>NaN</td>\n",
       "      <td>NaN</td>\n",
       "    </tr>\n",
       "    <tr>\n",
       "      <th>GradeID</th>\n",
       "      <td>440</td>\n",
       "      <td>10</td>\n",
       "      <td>G-02</td>\n",
       "      <td>147</td>\n",
       "      <td>NaN</td>\n",
       "      <td>NaN</td>\n",
       "      <td>NaN</td>\n",
       "      <td>NaN</td>\n",
       "      <td>NaN</td>\n",
       "      <td>NaN</td>\n",
       "      <td>NaN</td>\n",
       "    </tr>\n",
       "    <tr>\n",
       "      <th>SectionID</th>\n",
       "      <td>440</td>\n",
       "      <td>3</td>\n",
       "      <td>A</td>\n",
       "      <td>243</td>\n",
       "      <td>NaN</td>\n",
       "      <td>NaN</td>\n",
       "      <td>NaN</td>\n",
       "      <td>NaN</td>\n",
       "      <td>NaN</td>\n",
       "      <td>NaN</td>\n",
       "      <td>NaN</td>\n",
       "    </tr>\n",
       "    <tr>\n",
       "      <th>Topic</th>\n",
       "      <td>440</td>\n",
       "      <td>12</td>\n",
       "      <td>IT</td>\n",
       "      <td>95</td>\n",
       "      <td>NaN</td>\n",
       "      <td>NaN</td>\n",
       "      <td>NaN</td>\n",
       "      <td>NaN</td>\n",
       "      <td>NaN</td>\n",
       "      <td>NaN</td>\n",
       "      <td>NaN</td>\n",
       "    </tr>\n",
       "    <tr>\n",
       "      <th>Semester</th>\n",
       "      <td>440</td>\n",
       "      <td>2</td>\n",
       "      <td>F</td>\n",
       "      <td>225</td>\n",
       "      <td>NaN</td>\n",
       "      <td>NaN</td>\n",
       "      <td>NaN</td>\n",
       "      <td>NaN</td>\n",
       "      <td>NaN</td>\n",
       "      <td>NaN</td>\n",
       "      <td>NaN</td>\n",
       "    </tr>\n",
       "    <tr>\n",
       "      <th>Relation</th>\n",
       "      <td>440</td>\n",
       "      <td>2</td>\n",
       "      <td>Father</td>\n",
       "      <td>257</td>\n",
       "      <td>NaN</td>\n",
       "      <td>NaN</td>\n",
       "      <td>NaN</td>\n",
       "      <td>NaN</td>\n",
       "      <td>NaN</td>\n",
       "      <td>NaN</td>\n",
       "      <td>NaN</td>\n",
       "    </tr>\n",
       "    <tr>\n",
       "      <th>raisedhands</th>\n",
       "      <td>440.0</td>\n",
       "      <td>NaN</td>\n",
       "      <td>NaN</td>\n",
       "      <td>NaN</td>\n",
       "      <td>45.470455</td>\n",
       "      <td>30.721751</td>\n",
       "      <td>0.0</td>\n",
       "      <td>15.0</td>\n",
       "      <td>45.0</td>\n",
       "      <td>72.0</td>\n",
       "      <td>100.0</td>\n",
       "    </tr>\n",
       "    <tr>\n",
       "      <th>VisITedResources</th>\n",
       "      <td>440.0</td>\n",
       "      <td>NaN</td>\n",
       "      <td>NaN</td>\n",
       "      <td>NaN</td>\n",
       "      <td>53.059091</td>\n",
       "      <td>32.967384</td>\n",
       "      <td>0.0</td>\n",
       "      <td>18.75</td>\n",
       "      <td>61.0</td>\n",
       "      <td>82.0</td>\n",
       "      <td>99.0</td>\n",
       "    </tr>\n",
       "    <tr>\n",
       "      <th>AnnouncementsView</th>\n",
       "      <td>440.0</td>\n",
       "      <td>NaN</td>\n",
       "      <td>NaN</td>\n",
       "      <td>NaN</td>\n",
       "      <td>36.379545</td>\n",
       "      <td>26.126537</td>\n",
       "      <td>0.0</td>\n",
       "      <td>12.75</td>\n",
       "      <td>32.0</td>\n",
       "      <td>54.25</td>\n",
       "      <td>98.0</td>\n",
       "    </tr>\n",
       "    <tr>\n",
       "      <th>Discussion</th>\n",
       "      <td>440.0</td>\n",
       "      <td>NaN</td>\n",
       "      <td>NaN</td>\n",
       "      <td>NaN</td>\n",
       "      <td>42.202273</td>\n",
       "      <td>27.252092</td>\n",
       "      <td>1.0</td>\n",
       "      <td>19.0</td>\n",
       "      <td>37.0</td>\n",
       "      <td>66.0</td>\n",
       "      <td>99.0</td>\n",
       "    </tr>\n",
       "    <tr>\n",
       "      <th>ParentAnsweringSurvey</th>\n",
       "      <td>440</td>\n",
       "      <td>2</td>\n",
       "      <td>Yes</td>\n",
       "      <td>238</td>\n",
       "      <td>NaN</td>\n",
       "      <td>NaN</td>\n",
       "      <td>NaN</td>\n",
       "      <td>NaN</td>\n",
       "      <td>NaN</td>\n",
       "      <td>NaN</td>\n",
       "      <td>NaN</td>\n",
       "    </tr>\n",
       "    <tr>\n",
       "      <th>ParentschoolSatisfaction</th>\n",
       "      <td>440</td>\n",
       "      <td>2</td>\n",
       "      <td>Good</td>\n",
       "      <td>260</td>\n",
       "      <td>NaN</td>\n",
       "      <td>NaN</td>\n",
       "      <td>NaN</td>\n",
       "      <td>NaN</td>\n",
       "      <td>NaN</td>\n",
       "      <td>NaN</td>\n",
       "      <td>NaN</td>\n",
       "    </tr>\n",
       "    <tr>\n",
       "      <th>StudentAbsenceDays</th>\n",
       "      <td>440</td>\n",
       "      <td>2</td>\n",
       "      <td>Under-7</td>\n",
       "      <td>265</td>\n",
       "      <td>NaN</td>\n",
       "      <td>NaN</td>\n",
       "      <td>NaN</td>\n",
       "      <td>NaN</td>\n",
       "      <td>NaN</td>\n",
       "      <td>NaN</td>\n",
       "      <td>NaN</td>\n",
       "    </tr>\n",
       "    <tr>\n",
       "      <th>Class</th>\n",
       "      <td>440</td>\n",
       "      <td>3</td>\n",
       "      <td>M</td>\n",
       "      <td>191</td>\n",
       "      <td>NaN</td>\n",
       "      <td>NaN</td>\n",
       "      <td>NaN</td>\n",
       "      <td>NaN</td>\n",
       "      <td>NaN</td>\n",
       "      <td>NaN</td>\n",
       "      <td>NaN</td>\n",
       "    </tr>\n",
       "  </tbody>\n",
       "</table>\n",
       "</div>"
      ],
      "text/plain": [
       "                          count unique           top freq       mean  \\\n",
       "gender                      440      2             M  285        NaN   \n",
       "NationalITy                 440     14            KW  179        NaN   \n",
       "PlaceofBirth                440     14        KuwaIT  180        NaN   \n",
       "StageID                     440      3  MiddleSchool  208        NaN   \n",
       "GradeID                     440     10          G-02  147        NaN   \n",
       "SectionID                   440      3             A  243        NaN   \n",
       "Topic                       440     12            IT   95        NaN   \n",
       "Semester                    440      2             F  225        NaN   \n",
       "Relation                    440      2        Father  257        NaN   \n",
       "raisedhands               440.0    NaN           NaN  NaN  45.470455   \n",
       "VisITedResources          440.0    NaN           NaN  NaN  53.059091   \n",
       "AnnouncementsView         440.0    NaN           NaN  NaN  36.379545   \n",
       "Discussion                440.0    NaN           NaN  NaN  42.202273   \n",
       "ParentAnsweringSurvey       440      2           Yes  238        NaN   \n",
       "ParentschoolSatisfaction    440      2          Good  260        NaN   \n",
       "StudentAbsenceDays          440      2       Under-7  265        NaN   \n",
       "Class                       440      3             M  191        NaN   \n",
       "\n",
       "                                std  min    25%   50%    75%    max  \n",
       "gender                          NaN  NaN    NaN   NaN    NaN    NaN  \n",
       "NationalITy                     NaN  NaN    NaN   NaN    NaN    NaN  \n",
       "PlaceofBirth                    NaN  NaN    NaN   NaN    NaN    NaN  \n",
       "StageID                         NaN  NaN    NaN   NaN    NaN    NaN  \n",
       "GradeID                         NaN  NaN    NaN   NaN    NaN    NaN  \n",
       "SectionID                       NaN  NaN    NaN   NaN    NaN    NaN  \n",
       "Topic                           NaN  NaN    NaN   NaN    NaN    NaN  \n",
       "Semester                        NaN  NaN    NaN   NaN    NaN    NaN  \n",
       "Relation                        NaN  NaN    NaN   NaN    NaN    NaN  \n",
       "raisedhands               30.721751  0.0   15.0  45.0   72.0  100.0  \n",
       "VisITedResources          32.967384  0.0  18.75  61.0   82.0   99.0  \n",
       "AnnouncementsView         26.126537  0.0  12.75  32.0  54.25   98.0  \n",
       "Discussion                27.252092  1.0   19.0  37.0   66.0   99.0  \n",
       "ParentAnsweringSurvey           NaN  NaN    NaN   NaN    NaN    NaN  \n",
       "ParentschoolSatisfaction        NaN  NaN    NaN   NaN    NaN    NaN  \n",
       "StudentAbsenceDays              NaN  NaN    NaN   NaN    NaN    NaN  \n",
       "Class                           NaN  NaN    NaN   NaN    NaN    NaN  "
      ]
     },
     "execution_count": 8,
     "metadata": {},
     "output_type": "execute_result"
    }
   ],
   "source": [
    "df_students.describe(include='all').T"
   ]
  },
  {
   "cell_type": "code",
   "execution_count": 9,
   "id": "b001abd1",
   "metadata": {},
   "outputs": [
    {
     "data": {
      "text/plain": [
       "gender                      object\n",
       "NationalITy                 object\n",
       "PlaceofBirth                object\n",
       "StageID                     object\n",
       "GradeID                     object\n",
       "SectionID                   object\n",
       "Topic                       object\n",
       "Semester                    object\n",
       "Relation                    object\n",
       "raisedhands                  int64\n",
       "VisITedResources             int64\n",
       "AnnouncementsView            int64\n",
       "Discussion                   int64\n",
       "ParentAnsweringSurvey       object\n",
       "ParentschoolSatisfaction    object\n",
       "StudentAbsenceDays          object\n",
       "Class                       object\n",
       "dtype: object"
      ]
     },
     "execution_count": 9,
     "metadata": {},
     "output_type": "execute_result"
    }
   ],
   "source": [
    "df_students.dtypes"
   ]
  },
  {
   "cell_type": "code",
   "execution_count": 12,
   "id": "2fd8f806",
   "metadata": {},
   "outputs": [
    {
     "data": {
      "text/plain": [
       "H    130\n",
       "L    119\n",
       "M    191\n",
       "Name: Class, dtype: int64"
      ]
     },
     "execution_count": 12,
     "metadata": {},
     "output_type": "execute_result"
    }
   ],
   "source": [
    "\n",
    "df_class= df_students['Class'].value_counts().sort_index()\n",
    "df_class\n"
   ]
  },
  {
   "cell_type": "code",
   "execution_count": 14,
   "id": "eee81da4",
   "metadata": {},
   "outputs": [
    {
     "data": {
      "image/png": "[encoded data removed]",
      "text/plain": [
       "<Figure size 432x288 with 1 Axes>"
      ]
     },
     "metadata": {
      "needs_background": "light"
     },
     "output_type": "display_data"
    }
   ],
   "source": [
    "import matplotlib.pyplot as plt\n",
    "\n",
    "# 假设 df_class 是一个包含柱状图数据的 DataFrame\n",
    "\n",
    "plt.bar(df_class.index, df_class, color=['purple', 'blue', 'lightblue'])\n",
    "for a, b in zip(range(len(df_class)), df_class):\n",
    "    plt.text(a, b, str(b), ha='center', va='bottom')"
   ]
  },
  {
   "cell_type": "code",
   "execution_count": 15,
   "id": "f3151a6f",
   "metadata": {},
   "outputs": [],
   "source": [
    "import seaborn as sns\n"
   ]
  },
  {
   "cell_type": "code",
   "execution_count": 16,
   "id": "41b72ab4",
   "metadata": {},
   "outputs": [
    {
     "data": {
      "text/plain": [
       "Text(0.5, 1.0, 'gender')"
      ]
     },
     "execution_count": 16,
     "metadata": {},
     "output_type": "execute_result"
    },
    {
     "data": {
      "image/png": "[encoded data removed]",
      "text/plain": [
       "<Figure size 432x288 with 1 Axes>"
      ]
     },
     "metadata": {
      "needs_background": "light"
     },
     "output_type": "display_data"
    }
   ],
   "source": [
    "df_gender=df_students.groupby(['gender',\"Class\"])['NationalITy'].count()\n",
    "df_gender=df_gender.reset_index()\n",
    "df_gender.columns =['gender','Class','count']\n",
    "\n",
    "sns.barplot(hue='Class',y='count',data=df_gender,x='gender')\n",
    "plt.title('gender')\n"
   ]
  },
  {
   "cell_type": "code",
   "execution_count": 17,
   "id": "50eeba66",
   "metadata": {},
   "outputs": [
    {
     "data": {
      "text/plain": [
       "Text(0.5, 1.0, 'national')"
      ]
     },
     "execution_count": 17,
     "metadata": {},
     "output_type": "execute_result"
    },
    {
     "data": {
      "image/png": "[encoded data removed]",
      "text/plain": [
       "<Figure size 1440x360 with 1 Axes>"
      ]
     },
     "metadata": {
      "needs_background": "light"
     },
     "output_type": "display_data"
    }
   ],
   "source": [
    "df_national=df_students.groupby(['NationalITy',\"Class\"])['gender'].count()\n",
    "df_national=df_national.reset_index()\n",
    "df_national.columns =['national','Class','count']\n",
    "\n",
    "plt.figure(figsize=(20,5))\n",
    "sns.barplot(hue='Class',y='count',data=df_national,x='national')\n",
    "plt.title('national')"
   ]
  },
  {
   "cell_type": "code",
   "execution_count": 18,
   "id": "380d537c",
   "metadata": {},
   "outputs": [
    {
     "data": {
      "text/plain": [
       "Text(0.5, 1.0, 'placeofbirth')"
      ]
     },
     "execution_count": 18,
     "metadata": {},
     "output_type": "execute_result"
    },
    {
     "data": {
      "image/png": "[encoded data removed]",
      "text/plain": [
       "<Figure size 1440x360 with 1 Axes>"
      ]
     },
     "metadata": {
      "needs_background": "light"
     },
     "output_type": "display_data"
    }
   ],
   "source": [
    "df_placeofbirth=df_students.groupby(['PlaceofBirth',\"Class\"])['gender'].count()\n",
    "df_placeofbirth=df_placeofbirth.reset_index()\n",
    "df_placeofbirth.columns =['placeofbirth','Class','count']\n",
    "\n",
    "plt.figure(figsize=(20,5))\n",
    "sns.barplot(hue='Class',y='count',data=df_placeofbirth,x='placeofbirth')\n",
    "plt.title('placeofbirth')"
   ]
  },
  {
   "cell_type": "code",
   "execution_count": 19,
   "id": "75d26308",
   "metadata": {},
   "outputs": [
    {
     "data": {
      "text/plain": [
       "Text(0.5, 1.0, 'stageid')"
      ]
     },
     "execution_count": 19,
     "metadata": {},
     "output_type": "execute_result"
    },
    {
     "data": {
      "image/png": "[encoded data removed]",
      "text/plain": [
       "<Figure size 432x288 with 1 Axes>"
      ]
     },
     "metadata": {
      "needs_background": "light"
     },
     "output_type": "display_data"
    }
   ],
   "source": [
    "df_stageid=df_students.groupby(['StageID',\"Class\"])['NationalITy'].count()\n",
    "df_stageid=df_stageid.reset_index()\n",
    "df_stageid.columns =['stageid','Class','count']\n",
    "\n",
    "sns.barplot(hue='Class',y='count',data=df_stageid,x='stageid')\n",
    "plt.title('stageid')"
   ]
  },
  {
   "cell_type": "code",
   "execution_count": 20,
   "id": "659fc788",
   "metadata": {},
   "outputs": [
    {
     "data": {
      "text/plain": [
       "Text(0.5, 1.0, 'sectionid')"
      ]
     },
     "execution_count": 20,
     "metadata": {},
     "output_type": "execute_result"
    },
    {
     "data": {
      "image/png": "[encoded data removed]",
      "text/plain": [
       "<Figure size 432x288 with 1 Axes>"
      ]
     },
     "metadata": {
      "needs_background": "light"
     },
     "output_type": "display_data"
    }
   ],
   "source": [
    "\n",
    "df_sectionid=df_students.groupby(['SectionID',\"Class\"])['NationalITy'].count()\n",
    "df_sectionid=df_sectionid.reset_index()\n",
    "df_sectionid.columns =['sectionid','Class','count']\n",
    "\n",
    "sns.barplot(hue='Class',y='count',data=df_sectionid,x='sectionid')\n",
    "plt.title('sectionid')\n"
   ]
  },
  {
   "cell_type": "code",
   "execution_count": 24,
   "id": "ffce296a",
   "metadata": {},
   "outputs": [
    {
     "data": {
      "text/plain": [
       "Text(0.5, 1.0, 'topic')"
      ]
     },
     "execution_count": 24,
     "metadata": {},
     "output_type": "execute_result"
    },
    {
     "data": {
      "image/png": "[encoded data removed]",
      "text/plain": [
       "<Figure size 1440x360 with 1 Axes>"
      ]
     },
     "metadata": {
      "needs_background": "light"
     },
     "output_type": "display_data"
    }
   ],
   "source": [
    "\n",
    "df_topic=df_students.groupby(['Topic',\"Class\"])['NationalITy'].count()\n",
    "df_topic=df_topic.reset_index()\n",
    "df_topic.columns =['topic','Class','count']\n",
    "\n",
    "plt.figure(figsize=(20,5))\n",
    "sns.barplot(hue='Class',y='count',data=df_topic,x='topic')\n",
    "plt.title('topic')"
   ]
  },
  {
   "cell_type": "code",
   "execution_count": 25,
   "id": "89a667b7",
   "metadata": {},
   "outputs": [
    {
     "data": {
      "text/plain": [
       "Text(0.5, 1.0, 'semester')"
      ]
     },
     "execution_count": 25,
     "metadata": {},
     "output_type": "execute_result"
    },
    {
     "data": {
      "image/png": "[encoded data removed]",
      "text/plain": [
       "<Figure size 432x288 with 1 Axes>"
      ]
     },
     "metadata": {
      "needs_background": "light"
     },
     "output_type": "display_data"
    }
   ],
   "source": [
    "\n",
    "df_semester=df_students.groupby(['Semester',\"Class\"])['NationalITy'].count()\n",
    "df_semester=df_semester.reset_index()\n",
    "df_semester.columns =['semester','Class','count']\n",
    "\n",
    "sns.barplot(hue='Class',y='count',data=df_semester,x='semester')\n",
    "plt.title('semester')"
   ]
  },
  {
   "cell_type": "code",
   "execution_count": 26,
   "id": "fd2d598f",
   "metadata": {},
   "outputs": [
    {
     "data": {
      "text/plain": [
       "Text(0.5, 1.0, 'relation')"
      ]
     },
     "execution_count": 26,
     "metadata": {},
     "output_type": "execute_result"
    },
    {
     "data": {
      "image/png": "[encoded data removed]",
      "text/plain": [
       "<Figure size 432x288 with 1 Axes>"
      ]
     },
     "metadata": {
      "needs_background": "light"
     },
     "output_type": "display_data"
    }
   ],
   "source": [
    "df_relation=df_students.groupby(['Relation',\"Class\"])['NationalITy'].count()\n",
    "df_relation=df_relation.reset_index()\n",
    "df_relation.columns =['relation','Class','count']\n",
    "\n",
    "sns.barplot(hue='Class',y='count',data=df_relation,x='relation')\n",
    "plt.title('relation')"
   ]
  },
  {
   "cell_type": "markdown",
   "id": "f5ff493d",
   "metadata": {},
   "source": [
    "\n",
    "df_parent=df_students.groupby(['ParentAnsweringSurvey',\"Class\"])['NationalITy'].count()\n",
    "df_parent=df_parent.reset_index()\n",
    "df_parent.columns =['parent','Class','count']\n",
    "\n",
    "sns.barplot(hue='Class',y='count',data=df_parent,x='parent')\n",
    "plt.title('parent')"
   ]
  },
  {
   "cell_type": "markdown",
   "id": "3f2aeebc",
   "metadata": {},
   "source": [
    "\n",
    "df_stuabsence=df_students.groupby(['StudentAbsenceDays',\"Class\"])['NationalITy'].count()\n",
    "df_stuabsence=df_stuabsence.reset_index()\n",
    "df_stuabsence.columns =['stuabsence','Class','count']\n",
    "\n",
    "sns.barplot(hue='Class',y='count',data=df_stuabsence,x='stuabsence')\n",
    "plt.title('stuabsence')"
   ]
  },
  {
   "cell_type": "code",
   "execution_count": 36,
   "id": "b805366c",
   "metadata": {},
   "outputs": [
    {
     "data": {
      "text/plain": [
       "Text(0.5, 1.0, 'stuabsence')"
      ]
     },
     "execution_count": 36,
     "metadata": {},
     "output_type": "execute_result"
    },
    {
     "data": {
      "image/png": "[encoded data removed]",
      "text/plain": [
       "<Figure size 432x288 with 1 Axes>"
      ]
     },
     "metadata": {
      "needs_background": "light"
     },
     "output_type": "display_data"
    }
   ],
   "source": [
    "\n",
    "df_stuabsence=df_students.groupby(['StudentAbsenceDays',\"Class\"])['NationalITy'].count()\n",
    "df_stuabsence=df_stuabsence.reset_index()\n",
    "df_stuabsence.columns =['stuabsence','Class','count']\n",
    "\n",
    "sns.barplot(hue='Class',y='count',data=df_stuabsence,x='stuabsence')\n",
    "plt.title('stuabsence')\n"
   ]
  },
  {
   "cell_type": "markdown",
   "id": "e39a4255",
   "metadata": {},
   "source": [
    "——————————————————————\n",
    "归一化raisedhands,VisITedResources,AnnouncementsView,Discussion"
   ]
  },
  {
   "cell_type": "markdown",
   "id": "a4d8271e",
   "metadata": {},
   "source": [
    "df_students = pd.read_csv(\"normalized12_file.csv\")\n",
    "\n",
    "# 提取需要进行归一化处理的列数据\n",
    "column_data = df_students['Discussion']\n",
    "\n",
    "# 最小-最大归一化\n",
    "normalized_data = (column_data - column_data.min()) / (column_data.max() - column_data.min())\n",
    "\n",
    "# 将归一化后的数据替换原始列数据\n",
    "df_students['Discussion'] = normalized_data\n",
    "\n",
    "# 可选择将归一化后的数据写回到 CSV 文件\n",
    "df_students.to_csv('normalized123_file.csv', index=False)\n"
   ]
  },
  {
   "cell_type": "code",
   "execution_count": 55,
   "id": "f63f3c7f",
   "metadata": {},
   "outputs": [
    {
     "data": {
      "text/html": [
       "<div>\n",
       "<style scoped>\n",
       "    .dataframe tbody tr th:only-of-type {\n",
       "        vertical-align: middle;\n",
       "    }\n",
       "\n",
       "    .dataframe tbody tr th {\n",
       "        vertical-align: top;\n",
       "    }\n",
       "\n",
       "    .dataframe thead th {\n",
       "        text-align: right;\n",
       "    }\n",
       "</style>\n",
       "<table border=\"1\" class=\"dataframe\">\n",
       "  <thead>\n",
       "    <tr style=\"text-align: right;\">\n",
       "      <th></th>\n",
       "      <th>raisedhands</th>\n",
       "      <th>VisITedResources</th>\n",
       "      <th>AnnouncementsView</th>\n",
       "      <th>Discussion</th>\n",
       "    </tr>\n",
       "  </thead>\n",
       "  <tbody>\n",
       "    <tr>\n",
       "      <th>raisedhands</th>\n",
       "      <td>1.000000</td>\n",
       "      <td>0.684287</td>\n",
       "      <td>0.619110</td>\n",
       "      <td>0.322658</td>\n",
       "    </tr>\n",
       "    <tr>\n",
       "      <th>VisITedResources</th>\n",
       "      <td>0.684287</td>\n",
       "      <td>1.000000</td>\n",
       "      <td>0.576578</td>\n",
       "      <td>0.237118</td>\n",
       "    </tr>\n",
       "    <tr>\n",
       "      <th>AnnouncementsView</th>\n",
       "      <td>0.619110</td>\n",
       "      <td>0.576578</td>\n",
       "      <td>1.000000</td>\n",
       "      <td>0.406103</td>\n",
       "    </tr>\n",
       "    <tr>\n",
       "      <th>Discussion</th>\n",
       "      <td>0.322658</td>\n",
       "      <td>0.237118</td>\n",
       "      <td>0.406103</td>\n",
       "      <td>1.000000</td>\n",
       "    </tr>\n",
       "  </tbody>\n",
       "</table>\n",
       "</div>"
      ],
      "text/plain": [
       "                   raisedhands  VisITedResources  AnnouncementsView  \\\n",
       "raisedhands           1.000000          0.684287           0.619110   \n",
       "VisITedResources      0.684287          1.000000           0.576578   \n",
       "AnnouncementsView     0.619110          0.576578           1.000000   \n",
       "Discussion            0.322658          0.237118           0.406103   \n",
       "\n",
       "                   Discussion  \n",
       "raisedhands          0.322658  \n",
       "VisITedResources     0.237118  \n",
       "AnnouncementsView    0.406103  \n",
       "Discussion           1.000000  "
      ]
     },
     "execution_count": 55,
     "metadata": {},
     "output_type": "execute_result"
    }
   ],
   "source": [
    "df_students[['raisedhands', 'VisITedResources', 'AnnouncementsView', 'Discussion']].corr()"
   ]
  },
  {
   "cell_type": "code",
   "execution_count": 63,
   "id": "f1756e51",
   "metadata": {},
   "outputs": [],
   "source": [
    "from sklearn.tree import DecisionTreeClassifier\n",
    "from sklearn.model_selection import train_test_split"
   ]
  },
  {
   "cell_type": "code",
   "execution_count": 64,
   "id": "d15601fb",
   "metadata": {},
   "outputs": [],
   "source": [
    "\n",
    "\n",
    "x1=pd.get_dummies(df_students[['Relation','ParentAnsweringSurvey','ParentschoolSatisfaction','StudentAbsenceDays']])\n",
    "\n",
    "df_x=pd.concat([df_students[['raisedhands','Discussion']],x1],axis=1)\n",
    "df_y=df_students['Class']\n"
   ]
  },
  {
   "cell_type": "code",
   "execution_count": 67,
   "id": "8cb8abcb",
   "metadata": {},
   "outputs": [],
   "source": [
    "clf = DecisionTreeClassifier(random_state=50, max_depth=10)\n",
    "\n",
    "# 使用 train_test_split 函数划分训练集和测试集\n",
    "x_train, x_test, y_train, y_test = train_test_split(df_x, df_y, test_size=0.2, random_state=50)\n",
    "\n",
    "# 使用训练集进行模型训练\n",
    "clf.fit(x_train, y_train)\n",
    "\n",
    "# 使用训练后的模型进行预测\n",
    "y_pred = clf.predict(x_test)"
   ]
  },
  {
   "cell_type": "code",
   "execution_count": 69,
   "id": "ddc350f6",
   "metadata": {},
   "outputs": [],
   "source": [
    "from sklearn.metrics import accuracy_score"
   ]
  },
  {
   "cell_type": "code",
   "execution_count": 70,
   "id": "dd809b2f",
   "metadata": {},
   "outputs": [
    {
     "data": {
      "text/plain": [
       "0.7727272727272727"
      ]
     },
     "execution_count": 70,
     "metadata": {},
     "output_type": "execute_result"
    }
   ],
   "source": [
    "accuracy_score(y_test,y_pred)"
   ]
  },
  {
   "cell_type": "code",
   "execution_count": null,
   "id": "ba516cf5",
   "metadata": {},
   "outputs": [],
   "source": []
  }
 ],
 "metadata": {
  "kernelspec": {
   "display_name": "Python 3 (ipykernel)",
   "language": "python",
   "name": "python3"
  },
  "language_info": {
   "codemirror_mode": {
    "name": "ipython",
    "version": 3
   },
   "file_extension": ".py",
   "mimetype": "text/x-python",
   "name": "python",
   "nbconvert_exporter": "python",
   "pygments_lexer": "ipython3",
   "version": "3.10.9"
  }
 },
 "nbformat": 4,
 "nbformat_minor": 5
}
